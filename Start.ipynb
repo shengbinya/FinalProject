{
 "cells": [
  {
   "cell_type": "markdown",
   "id": "3a79acd2",
   "metadata": {},
   "source": [
    "This is the start"
   ]
  }
 ],
 "metadata": {
  "language_info": {
   "name": "python"
  }
 },
 "nbformat": 4,
 "nbformat_minor": 5
}
